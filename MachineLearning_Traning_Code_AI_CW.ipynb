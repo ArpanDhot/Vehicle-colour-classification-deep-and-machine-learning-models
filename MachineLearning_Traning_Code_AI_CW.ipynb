{
 "nbformat": 4,
 "nbformat_minor": 0,
 "metadata": {
  "colab": {
   "provenance": []
  },
  "kernelspec": {
   "name": "python3",
   "display_name": "Python 3"
  },
  "language_info": {
   "name": "python"
  }
 },
 "cells": [
  {
   "cell_type": "code",
   "source": [
    "%pip install opendatasets\n",
    "import opendatasets as od\n",
    "import pandas\n",
    " \n",
    "od.download(\"https://www.kaggle.com/datasets/arpan2022/carcolourdataset\")"
   ],
   "metadata": {
    "colab": {
     "base_uri": "https://localhost:8080/"
    },
    "id": "9vjyYtIkQdZH",
    "outputId": "085c5e69-7d18-480f-9060-fd5863b54ec1"
   },
   "execution_count": null,
   "outputs": [
    {
     "output_type": "stream",
     "name": "stdout",
     "text": [
      "Looking in indexes: https://pypi.org/simple, https://us-python.pkg.dev/colab-wheels/public/simple/\n",
      "Collecting opendatasets\n",
      "  Downloading opendatasets-0.1.22-py3-none-any.whl (15 kB)\n",
      "Requirement already satisfied: kaggle in /usr/local/lib/python3.9/dist-packages (from opendatasets) (1.5.13)\n",
      "Requirement already satisfied: click in /usr/local/lib/python3.9/dist-packages (from opendatasets) (8.1.3)\n",
      "Requirement already satisfied: tqdm in /usr/local/lib/python3.9/dist-packages (from opendatasets) (4.65.0)\n",
      "Requirement already satisfied: requests in /usr/local/lib/python3.9/dist-packages (from kaggle->opendatasets) (2.27.1)\n",
      "Requirement already satisfied: python-dateutil in /usr/local/lib/python3.9/dist-packages (from kaggle->opendatasets) (2.8.2)\n",
      "Requirement already satisfied: python-slugify in /usr/local/lib/python3.9/dist-packages (from kaggle->opendatasets) (8.0.1)\n",
      "Requirement already satisfied: urllib3 in /usr/local/lib/python3.9/dist-packages (from kaggle->opendatasets) (1.26.15)\n",
      "Requirement already satisfied: six>=1.10 in /usr/local/lib/python3.9/dist-packages (from kaggle->opendatasets) (1.15.0)\n",
      "Requirement already satisfied: certifi in /usr/local/lib/python3.9/dist-packages (from kaggle->opendatasets) (2022.12.7)\n",
      "Requirement already satisfied: text-unidecode>=1.3 in /usr/local/lib/python3.9/dist-packages (from python-slugify->kaggle->opendatasets) (1.3)\n",
      "Requirement already satisfied: idna<4,>=2.5 in /usr/local/lib/python3.9/dist-packages (from requests->kaggle->opendatasets) (3.4)\n",
      "Requirement already satisfied: charset-normalizer~=2.0.0 in /usr/local/lib/python3.9/dist-packages (from requests->kaggle->opendatasets) (2.0.12)\n",
      "Installing collected packages: opendatasets\n",
      "Successfully installed opendatasets-0.1.22\n",
      "Please provide your Kaggle credentials to download this dataset. Learn more: http://bit.ly/kaggle-creds\n",
      "Your Kaggle username: arpan2022\n",
      "Your Kaggle Key: ··········\n",
      "Downloading carcolourdataset.zip to ./carcolourdataset\n"
     ]
    },
    {
     "output_type": "stream",
     "name": "stderr",
     "text": [
      "100%|██████████| 574M/574M [00:06<00:00, 87.4MB/s]\n"
     ]
    },
    {
     "output_type": "stream",
     "name": "stdout",
     "text": [
      "\n"
     ]
    }
   ]
  },
  {
   "cell_type": "code",
   "source": [],
   "metadata": {
    "id": "HXVCPXrXH4gN"
   },
   "execution_count": null,
   "outputs": []
  },
  {
   "cell_type": "markdown",
   "source": [
    "### STEP 1-\n",
    "This code imports required packages, libraries, and modules for the script:\n",
    "\n",
    "- `os` is used to interact with the underlying operating system. It provides functionalities such as reading and writing files, managing directories, and navigating the file system.\n",
    "\n",
    "- `math` is used to perform mathematical operations. It offers a set of mathematical functions that allow users to perform operations such as trigonometry, logarithms, and exponentials on numeric values.\n",
    "\n",
    "- `numpy` is used for numerical computing and array manipulation. It provides support for large, multi-dimensional arrays and matrices, as well as a large collection of high-level mathematical functions to operate on these arrays.\n",
    "\n",
    "- `sys` is used to interact with the Python interpreter. It provides access to some variables used or maintained by the interpreter and to functions that interact strongly with the interpreter.\n",
    "\n",
    "- `cv2` is used for computer vision and image processing. It provides a variety of functions for reading and writing images, performing edge detection, and detecting objects in images.\n",
    "\n",
    "- `sklearn` is used for machine learning algorithms and evaluation metrics. It provides a variety of machine learning algorithms, such as support vector machine (SVM) classifiers, as well as tools for data preprocessing, model selection, and evaluation.\n",
    "\n",
    "- `joblib` is used for job scheduling and parallel computing. It provides tools for parallelising computations across multiple CPU cores or for caching results to disk.\n",
    "\n",
    "- `matplotlib.pyplot` is used for data visualisation and plotting. It offers a variety of customisation options and can be used to generate publication-quality figures.\n"
   ],
   "metadata": {
    "id": "mA9oBXkuH5d3"
   }
  },
  {
   "cell_type": "code",
   "source": [
    "import os\n",
    "import math\n",
    "import numpy as np\n",
    "import sys\n",
    "import cv2\n",
    "from sklearn import svm\n",
    "from sklearn.metrics import accuracy_score, f1_score, precision_score, recall_score, roc_auc_score\n",
    "from sklearn.preprocessing import label_binarize\n",
    "from sklearn.metrics import confusion_matrix\n",
    "import joblib\n",
    "import matplotlib.pyplot as plt"
   ],
   "metadata": {
    "id": "uXAnHAADBaiX"
   },
   "execution_count": null,
   "outputs": []
  },
  {
   "cell_type": "markdown",
   "source": [
    "### STEP 2 - Data pre-processing and loading\n",
    "This code sets the path of the directories containing the training, validation, and test datasets.\n",
    "\n",
    "The `extract_features` method extracts features from an image by resising it, converting it to the HSV color space, computing separate histograms for the H, S, and V channels, concatenating the histograms into a single feature vector, normalising the feature vector, and flattening it into a 1D array. The method returns the normalised and flattened feature vector as a NumPy array.\n",
    "\n",
    "The `load_dataset` method takes a path to a dataset as input and returns two NumPy arrays, X and y, representing the dataset's features and labels, respectively. It loops through each subdirectory in the given path and calls the extract_features method to extract features from each image in the subdirectory. It then appends the extracted features and corresponding labels to lists X and y. The code then calls this function three times, each time with a different dataset path, to load and preprocess the training, validation, and testing datasets. The resulting features and labels are assigned to variables train_X, train_y, val_X, val_y, test_X, and test_y, respectively."
   ],
   "metadata": {
    "id": "LyA2l7UXJVAC"
   }
  },
  {
   "cell_type": "code",
   "source": [
    "testing_dataset = '/content/carcolourdataset/test'\n",
    "training_dataset = '/content/carcolourdataset/train'\n",
    "validation_dataset = '/content/carcolourdataset/val'"
   ],
   "metadata": {
    "id": "K389KOD6Bb_r"
   },
   "execution_count": null,
   "outputs": []
  },
  {
   "cell_type": "code",
   "source": [
    "img_height = 244\n",
    "img_width = 244\n",
    "img_path = \"/content/carcolourdataset/train/black/00a3225ef6.jpg\""
   ],
   "metadata": {
    "id": "bz2YQ0vIBeA9"
   },
   "execution_count": null,
   "outputs": []
  },
  {
   "cell_type": "code",
   "source": [
    "# Get the list of subdirectories in the testing dataset\n",
    "subdirectories = [f.name for f in os.scandir(testing_dataset) if f.is_dir()]\n",
    "\n",
    "# List of classes\n",
    "subdirectories"
   ],
   "metadata": {
    "colab": {
     "base_uri": "https://localhost:8080/"
    },
    "id": "gcyyBMbEHFQm",
    "outputId": "03c3f2d8-f5e1-47dc-d295-2d84f0e451b2"
   },
   "execution_count": null,
   "outputs": [
    {
     "output_type": "execute_result",
     "data": {
      "text/plain": [
       "['brown',\n",
       " 'tan',\n",
       " 'grey',\n",
       " 'red',\n",
       " 'beige',\n",
       " 'silver',\n",
       " 'orange',\n",
       " 'black',\n",
       " 'white',\n",
       " 'yellow',\n",
       " 'gold',\n",
       " 'green',\n",
       " 'pink',\n",
       " 'blue',\n",
       " 'purple']"
      ]
     },
     "metadata": {},
     "execution_count": 21
    }
   ]
  },
  {
   "cell_type": "code",
   "source": [
    "# Define function to extract features from images\n",
    "def extract_features(img_path):\n",
    "    img = cv2.imread(img_path)\n",
    "    img_resized = cv2.resize(img, (img_width, img_height))\n",
    "    hsv = cv2.cvtColor(img_resized, cv2.COLOR_BGR2HSV)\n",
    "    hist_h = cv2.calcHist([hsv],[0],None,[16],[0,180])\n",
    "    hist_s = cv2.calcHist([hsv],[1],None,[16],[0,256])\n",
    "    hist_v = cv2.calcHist([hsv],[2],None,[16],[0,256])\n",
    "    hist = np.concatenate((hist_h, hist_s, hist_v), axis=0)\n",
    "    hist_norm = cv2.normalize(hist, None).flatten()\n",
    "    return hist_norm"
   ],
   "metadata": {
    "id": "6uo-KZdwBkLf"
   },
   "execution_count": null,
   "outputs": []
  },
  {
   "cell_type": "code",
   "source": [
    "def load_dataset(path):\n",
    "  X = []\n",
    "  y = []\n",
    "  # Load and preprocess the training dataset\n",
    "  for color in os.listdir(path):\n",
    "      color_path = os.path.join(path, color)\n",
    "      for img in os.listdir(color_path):\n",
    "          img_path = os.path.join(color_path, img)\n",
    "          features = extract_features(img_path)\n",
    "          X.append(features)\n",
    "          y.append(color)\n",
    "\n",
    "  return np.array(X),np.array(y)\n",
    "\n",
    "\n",
    "\n",
    "\n",
    "train_X, train_y = load_dataset(training_dataset)\n",
    "val_X, val_y = load_dataset(validation_dataset)\n",
    "test_X, test_y = load_dataset(testing_dataset)"
   ],
   "metadata": {
    "id": "NVqpIObXBvbM"
   },
   "execution_count": null,
   "outputs": []
  },
  {
   "cell_type": "markdown",
   "source": [
    "### Step 3 - Model traning\n",
    "\n",
    "This code creates an SVM classifier using the scikit-learn library's svm.SVC function with a linear kernel, a C value of 1, and the ability to output probability estimates. It then trains the classifier using the training data train_X and corresponding labels train_y using the fit method. The trained model is stored in the clf object."
   ],
   "metadata": {
    "id": "0TceQtF1JZFu"
   }
  },
  {
   "cell_type": "code",
   "source": [
    "# Train an SVM classifier\n",
    "clf = svm.SVC(kernel='linear', C=1, probability=True)\n",
    "clf.fit(train_X, train_y)"
   ],
   "metadata": {
    "colab": {
     "base_uri": "https://localhost:8080/",
     "height": 74
    },
    "id": "XUr14b8dDh62",
    "outputId": "6b709d73-7284-431a-cf35-d7fbab141438"
   },
   "execution_count": null,
   "outputs": [
    {
     "output_type": "execute_result",
     "data": {
      "text/plain": [
       "SVC(C=1, kernel='linear', probability=True)"
      ],
      "text/html": [
       "<style>#sk-container-id-1 {color: black;background-color: white;}#sk-container-id-1 pre{padding: 0;}#sk-container-id-1 div.sk-toggleable {background-color: white;}#sk-container-id-1 label.sk-toggleable__label {cursor: pointer;display: block;width: 100%;margin-bottom: 0;padding: 0.3em;box-sizing: border-box;text-align: center;}#sk-container-id-1 label.sk-toggleable__label-arrow:before {content: \"▸\";float: left;margin-right: 0.25em;color: #696969;}#sk-container-id-1 label.sk-toggleable__label-arrow:hover:before {color: black;}#sk-container-id-1 div.sk-estimator:hover label.sk-toggleable__label-arrow:before {color: black;}#sk-container-id-1 div.sk-toggleable__content {max-height: 0;max-width: 0;overflow: hidden;text-align: left;background-color: #f0f8ff;}#sk-container-id-1 div.sk-toggleable__content pre {margin: 0.2em;color: black;border-radius: 0.25em;background-color: #f0f8ff;}#sk-container-id-1 input.sk-toggleable__control:checked~div.sk-toggleable__content {max-height: 200px;max-width: 100%;overflow: auto;}#sk-container-id-1 input.sk-toggleable__control:checked~label.sk-toggleable__label-arrow:before {content: \"▾\";}#sk-container-id-1 div.sk-estimator input.sk-toggleable__control:checked~label.sk-toggleable__label {background-color: #d4ebff;}#sk-container-id-1 div.sk-label input.sk-toggleable__control:checked~label.sk-toggleable__label {background-color: #d4ebff;}#sk-container-id-1 input.sk-hidden--visually {border: 0;clip: rect(1px 1px 1px 1px);clip: rect(1px, 1px, 1px, 1px);height: 1px;margin: -1px;overflow: hidden;padding: 0;position: absolute;width: 1px;}#sk-container-id-1 div.sk-estimator {font-family: monospace;background-color: #f0f8ff;border: 1px dotted black;border-radius: 0.25em;box-sizing: border-box;margin-bottom: 0.5em;}#sk-container-id-1 div.sk-estimator:hover {background-color: #d4ebff;}#sk-container-id-1 div.sk-parallel-item::after {content: \"\";width: 100%;border-bottom: 1px solid gray;flex-grow: 1;}#sk-container-id-1 div.sk-label:hover label.sk-toggleable__label {background-color: #d4ebff;}#sk-container-id-1 div.sk-serial::before {content: \"\";position: absolute;border-left: 1px solid gray;box-sizing: border-box;top: 0;bottom: 0;left: 50%;z-index: 0;}#sk-container-id-1 div.sk-serial {display: flex;flex-direction: column;align-items: center;background-color: white;padding-right: 0.2em;padding-left: 0.2em;position: relative;}#sk-container-id-1 div.sk-item {position: relative;z-index: 1;}#sk-container-id-1 div.sk-parallel {display: flex;align-items: stretch;justify-content: center;background-color: white;position: relative;}#sk-container-id-1 div.sk-item::before, #sk-container-id-1 div.sk-parallel-item::before {content: \"\";position: absolute;border-left: 1px solid gray;box-sizing: border-box;top: 0;bottom: 0;left: 50%;z-index: -1;}#sk-container-id-1 div.sk-parallel-item {display: flex;flex-direction: column;z-index: 1;position: relative;background-color: white;}#sk-container-id-1 div.sk-parallel-item:first-child::after {align-self: flex-end;width: 50%;}#sk-container-id-1 div.sk-parallel-item:last-child::after {align-self: flex-start;width: 50%;}#sk-container-id-1 div.sk-parallel-item:only-child::after {width: 0;}#sk-container-id-1 div.sk-dashed-wrapped {border: 1px dashed gray;margin: 0 0.4em 0.5em 0.4em;box-sizing: border-box;padding-bottom: 0.4em;background-color: white;}#sk-container-id-1 div.sk-label label {font-family: monospace;font-weight: bold;display: inline-block;line-height: 1.2em;}#sk-container-id-1 div.sk-label-container {text-align: center;}#sk-container-id-1 div.sk-container {/* jupyter's `normalize.less` sets `[hidden] { display: none; }` but bootstrap.min.css set `[hidden] { display: none !important; }` so we also need the `!important` here to be able to override the default hidden behavior on the sphinx rendered scikit-learn.org. See: https://github.com/scikit-learn/scikit-learn/issues/21755 */display: inline-block !important;position: relative;}#sk-container-id-1 div.sk-text-repr-fallback {display: none;}</style><div id=\"sk-container-id-1\" class=\"sk-top-container\"><div class=\"sk-text-repr-fallback\"><pre>SVC(C=1, kernel=&#x27;linear&#x27;, probability=True)</pre><b>In a Jupyter environment, please rerun this cell to show the HTML representation or trust the notebook. <br />On GitHub, the HTML representation is unable to render, please try loading this page with nbviewer.org.</b></div><div class=\"sk-container\" hidden><div class=\"sk-item\"><div class=\"sk-estimator sk-toggleable\"><input class=\"sk-toggleable__control sk-hidden--visually\" id=\"sk-estimator-id-1\" type=\"checkbox\" checked><label for=\"sk-estimator-id-1\" class=\"sk-toggleable__label sk-toggleable__label-arrow\">SVC</label><div class=\"sk-toggleable__content\"><pre>SVC(C=1, kernel=&#x27;linear&#x27;, probability=True)</pre></div></div></div></div></div>"
      ]
     },
     "metadata": {},
     "execution_count": 13
    }
   ]
  },
  {
   "cell_type": "code",
   "source": [
    "# Save the trained model\n",
    "joblib.dump(clf, 'svm_model.pkl')"
   ],
   "metadata": {
    "colab": {
     "base_uri": "https://localhost:8080/"
    },
    "id": "_1q37oG4DmOX",
    "outputId": "97ddb77f-7070-41ce-9df0-c271eae275ca"
   },
   "execution_count": null,
   "outputs": [
    {
     "output_type": "execute_result",
     "data": {
      "text/plain": [
       "['svm_model.pkl']"
      ]
     },
     "metadata": {},
     "execution_count": 14
    }
   ]
  },
  {
   "cell_type": "markdown",
   "source": [
    "### Step 4- Model evaluation\n",
    "\n",
    "This code evaluates the performance of a trained machine learning model (clf) on a test dataset (test_X and test_y) using various metrics and visualisation techniques.\n",
    "\n",
    "First, the code generates predictions on the test set using the trained model and assigns them to y_pred. It also assigns the true labels to y_true.\n",
    "\n",
    "Next, the code calculates several metrics to evaluate the performance of the model on the test set. These metrics include accuracy, F1-score, precision, and recall. The accuracy_score(), f1_score(), precision_score(), and recall_score() functions from the sklearn.metrics module are used to calculate these metrics.\n",
    "\n",
    "After calculating the metrics, the code prints the results to the console.\n",
    "\n",
    "Next, the code generates a scatter plot that shows the actual labels versus the predicted labels. This is done using the plt.scatter() function from the matplotlib.pyplot module.\n",
    "\n",
    "Finally, the code creates a confusion matrix to visualise the performance of the model on each class in the test set. This is done using the confusion_matrix() function from the sklearn.metrics module. The resulting confusion matrix is plotted using the plt.imshow() and plt.text() functions from matplotlib.pyplot."
   ],
   "metadata": {
    "id": "Ruup0iyrJdsN"
   }
  },
  {
   "cell_type": "code",
   "source": [
    "# Generate predictions on the test set\n",
    "y_pred = clf.predict(test_X)\n",
    "y_true = test_y"
   ],
   "metadata": {
    "id": "8VZYxJF8GDXV"
   },
   "execution_count": null,
   "outputs": []
  },
  {
   "cell_type": "code",
   "execution_count": null,
   "metadata": {
    "colab": {
     "base_uri": "https://localhost:8080/"
    },
    "id": "VZZqJxMLQYK0",
    "outputId": "7755e66f-2b96-4609-bf7a-718c94f63ffe"
   },
   "outputs": [
    {
     "output_type": "stream",
     "name": "stdout",
     "text": [
      "Accuracy:  0.6555269922879178\n",
      "F1-Score:  0.6468461756596288\n",
      "Precision:  0.6428583775707923\n",
      "Recall:  0.6555269922879178\n"
     ]
    }
   ],
   "source": [
    "# Calculate accuracy\n",
    "acc = accuracy_score(y_true, y_pred)\n",
    "\n",
    "# Calculate F1-Score\n",
    "f1 = f1_score(y_true, y_pred, average='weighted')\n",
    "\n",
    "# Calculate Precision\n",
    "precision = precision_score(y_true, y_pred, average='weighted')\n",
    "\n",
    "# Calculate Recall\n",
    "recall = recall_score(y_true, y_pred, average='weighted')\n",
    "\n",
    "# Print the results\n",
    "print(\"Accuracy: \", acc)\n",
    "print(\"F1-Score: \", f1)\n",
    "print(\"Precision: \", precision)\n",
    "print(\"Recall: \", recall)"
   ]
  },
  {
   "cell_type": "code",
   "source": [
    "# Plot actual vs predicted values as a scatter plot\n",
    "plt.scatter(y_true, y_pred)\n",
    "plt.xlabel('Actual Values')\n",
    "plt.ylabel('Predicted Values')\n",
    "plt.title('Actual vs Predicted Values')\n",
    "plt.show()"
   ],
   "metadata": {
    "colab": {
     "base_uri": "https://localhost:8080/",
     "height": 295
    },
    "id": "WGkrmjDPGEop",
    "outputId": "890b93bb-7d3a-49c6-a0f9-403a08cf6ef4"
   },
   "execution_count": null,
   "outputs": [
    {
     "output_type": "display_data",
     "data": {
      "text/plain": [
       "<Figure size 432x288 with 1 Axes>"
      ],
      "image/png": "[encoded data removed]"
     },
     "metadata": {
      "needs_background": "light"
     }
    }
   ]
  },
  {
   "cell_type": "code",
   "source": [
    "# Create a confusion matrix\n",
    "cm = confusion_matrix(y_true, y_pred)\n",
    "\n",
    "# Plot the confusion matrix\n",
    "fig, ax = plt.subplots(figsize=(8, 8))\n",
    "ax.imshow(cm, cmap='Blues')\n",
    "ax.grid(False)\n",
    "ax.set_xlabel('Predicted labels')\n",
    "ax.set_ylabel('True labels')\n",
    "ax.set_xticks(range(len(subdirectories)))\n",
    "ax.set_xticklabels(subdirectories, rotation=90)\n",
    "ax.set_yticks(range(len(subdirectories)))\n",
    "ax.set_yticklabels(subdirectories)\n",
    "ax.set_ylim(len(subdirectories)-0.5, -0.5)\n",
    "for i in range(len(subdirectories)):\n",
    "    for j in range(len(subdirectories)):\n",
    "        ax.text(j, i, cm[i, j], ha='center', va='center', color='white')\n",
    "plt.show()"
   ],
   "metadata": {
    "colab": {
     "base_uri": "https://localhost:8080/",
     "height": 522
    },
    "id": "ZRPnwEgwGj2X",
    "outputId": "e4f96a93-47a6-4a24-d677-778f3df5ac3f"
   },
   "execution_count": null,
   "outputs": [
    {
     "output_type": "display_data",
     "data": {
      "text/plain": [
       "<Figure size 576x576 with 1 Axes>"
      ],
      "image/png": "[encoded data removed]"
     },
     "metadata": {
      "needs_background": "light"
     }
    }
   ]
  }
 ]
}
